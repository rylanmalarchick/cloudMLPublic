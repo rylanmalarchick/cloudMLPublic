{
  "cells": [
    {
      "cell_type": "markdown",
      "metadata": {},
      "source": [
          "# NASA Cloud-ML Training on Google Colab\n",
          "\n",
          "This notebook sets up remote training for the Cloud-ML project using Google Colab's free GPU. Note: Colab sessions are limited to ~12 hours, so this is best for short experiments or ablation runs. For longer training, consider Colab Pro or other services.\n",
          "\n",
          "## Prerequisites\n",
          "- Your GitHub repo: `https://github.com/rylanmalarchick/cloudMLPublic.git`\n",
          "- Data: Upload to Google Drive or provide links (CPL and camera/nav data as per README).\n",
          "- PAT for private access if needed.\n",
          "\n",
          "## Steps\n",
          "1. Mount Google Drive.\n",
          "2. Clone the repo.\n",
          "3. Install dependencies.\n",
          "4. Set up data.\n",
          "5. Run training.\n",
          "6. Save results."
      ]
    },
    {
      "cell_type": "code",
      "execution_count": null,
      "metadata": {},
      "outputs": [],
      "source": [
        "# Step 1: Mount Google Drive for persistent storage\n",
        "from google.colab import drive\n",
        "drive.mount('/content/drive')\n",
        "\n",
        "# Create a directory for the project\n",
        "!mkdir -p /content/drive/MyDrive/CloudML\n",
        "%cd /content/drive/MyDrive/CloudML"
      ]
    },
    {
      "cell_type": "code",
      "execution_count": null,
      "metadata": {},
      "outputs": [],
      "source": [
        "# Step 2: Clone or update the repo\n",
        "# If private, use PAT: !git clone https://<YOUR_PAT>@github.com/rylanmalarchick/cloudMLPublic.git /content/repo\n",
        "import os\n",
        "if not os.path.exists('README.md'):  # Check if already cloned\n",
        "    !git clone https://github.com/rylanmalarchick/cloudMLPublic.git /content/repo\n",
        "    %cd /content/repo\n",
        "else:\n",
        "    print('Repo already exists, pulling latest changes.')\n",
        "    !git pull origin main\n",
        "    %cd /content/repo  # Ensure we're in the repo directory"
      ]
    },
    {
      "cell_type": "code",
      "execution_count": null,
      "metadata": {},
      "outputs": [],
      "source": [
        "# Step 3: Install dependencies\n",
        "!pip install -r requirements.txt\n",
        "\n",
        "# Install additional Colab-specific packages if needed\n",
        "!pip install torch torchvision torchaudio --index-url https://download.pytorch.org/whl/cu121  # Ensure CUDA compatibility"
      ]
    },
    {
      "cell_type": "code",
      "execution_count": null,
      "metadata": {},
      "outputs": [],
      "source": [
        "# Step 4: Set up data\n",
        "# Upload data to Drive or download from links\n",
        "# Example: Download from HAR and CPL (replace with actual links/paths)\n",
        "# !wget -P data/ <HAR_DATA_LINK>\n",
        "# !wget -P data/ <CPL_DATA_LINK>\n",
        "\n",
        "# Update config.yaml paths to point to Drive\n",
        "# E.g., data_directory: \"/content/drive/MyDrive/CloudML/data/\"\n",
        "# output_directory: \"/content/drive/MyDrive/CloudML/plots/\"\n",
        "\n",
        "import yaml\n",
        "with open('config.yaml', 'r') as f:\n",
        "    config = yaml.safe_load(f)\n",
        "config['data_directory'] = '/content/drive/MyDrive/CloudML/data/'\n",
        "config['output_directory'] = '/content/drive/MyDrive/CloudML/plots/'\n",
        "with open('config.yaml', 'w') as f:\n",
        "    yaml.dump(config, f)\n",
        "\n",
        "# Ensure data folder exists\n",
        "!mkdir -p /content/drive/MyDrive/CloudML/data"
      ]
    },
    {
      "cell_type": "code",
      "execution_count": null,
      "metadata": {},
      "outputs": [],
      "source": [
        "# Step 5: Run training\n",
        "# Example: Run a single experiment\n",
        "!python main.py --config bestComboConfig.yaml --epochs 10  # Short run for testing\n",
        "\n",
        "# For ablation: Loop with command-line overrides (no extra YAML files)\n",
        "ablations = [\n",
        "    '--angles_mode both',  # All angles\n",
        "    '--angles_mode sza_only',  # Zenith only\n",
        "    '--use_spatial_attention false --use_temporal_attention false',  # No attention\n",
        "    '--loss_type mae',  # Plain MAE loss\n",
        "    '',  # Baseline (attention on, etc.)\n",
        "    '--augment false',  # No augmentation\n",
        "    '--architecture.name gnn'  # GNN architecture\n",
        "]\n",
        "for i, override in enumerate(ablations):\n",
        "    print(f'Running ablation {i+1}: {override or \"baseline\"}')\n",
        "    !python main.py --config configs/bestComboConfig.yaml {override} --epochs 5  # Short epochs for testing; increase for full run\n",
        "\n",
        "# Monitor GPU usage\n",
        "!nvidia-smi"
      ]
    },
    {
      "cell_type": "code",
      "execution_count": null,
      "metadata": {},
      "outputs": [],
      "source": [
        "# Step 6: Save results\n",
        "# Results are already in Drive (plots/, logs/, etc.)\n",
        "# Download manually or use Colab's file browser\n",
        "\n",
        "# Optional: Zip and download\n",
        "# !zip -r results.zip plots/ logs/ models/\n",
        "# from google.colab import files\n",
        "# files.download('results.zip')\n",
        "\n",
        "print(\"Training complete! Check Drive for outputs.\")"
      ]
    },
    {
      "cell_type": "markdown",
      "metadata": {},
      "source": [
        "## Tips\n",
        "- **Runtime Limits:** Colab disconnects after inactivity. Use a Colab Pro account for longer sessions if needed (paid, but affordable).\n",
        "- **Data Size:** Upload data to Drive first; Colab has storage limits.\n",
        "- **Persistence:** Use Drive to save models/plots between sessions.\n",
        "- **Free Alternatives:** Kaggle Notebooks or Paperspace Gradient (free tiers available).\n",
        "- **Cost:** Colab is free for basic use; monitor GPU hours.\n",
        "\n",
        "If issues arise, check the README for setup details."
      ]
    },
    {
      "cell_type": "code",
      "execution_count": null,
      "metadata": {},
      "outputs": [],
      "source": [
        "# Step 7: Aggregate ablation results\n",
        "# After all ablations, run this to combine metrics into a summary CSV\n",
        "!python scripts/aggregate_results.py\n",
        "# Results saved to ablation_summary.csv in Drive\n",
        "print(\"Ablation summary generated.\")"
      ]
    }
  ],
  "metadata": {
    "accelerator": "GPU",
    "colab": {
      "provenance": []
    },
    "kernelspec": {
      "display_name": "Python 3",
      "language": "python",
      "name": "python3"
    },
    "language_info": {
      "codemirror_mode": {
        "name": "ipython",
        "version": 3
      },
      "file_extension": ".py",
      "mimetype": "text/x-python",
      "name": "python",
      "nbconvert_exporter": "python",
      "pygments_lexer": "ipython3",
      "version": "3.10.12"
    }
  },
  "nbformat": 4,
  "nbformat_minor": 0
}
